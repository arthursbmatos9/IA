{
  "nbformat": 4,
  "nbformat_minor": 0,
  "metadata": {
    "colab": {
      "provenance": []
    },
    "kernelspec": {
      "name": "python3",
      "display_name": "Python 3"
    },
    "language_info": {
      "name": "python"
    }
  },
  "cells": [
    {
      "cell_type": "markdown",
      "source": [
        "**Regras de associação**\n",
        "\n",
        "**Algoritmo Apriori**\n",
        "\n",
        "**Veja: https://www.youtube.com/watch?v=0v6PiOpsJi8**"
      ],
      "metadata": {
        "id": "qm5lmIq9Xe-a"
      }
    },
    {
      "cell_type": "code",
      "metadata": {
        "id": "2bZM-_AsBVca",
        "colab": {
          "base_uri": "https://localhost:8080/"
        },
        "outputId": "4eb7cc50-17d2-4f7e-aa94-0018f683ecbd",
        "collapsed": true
      },
      "source": [
        "!pip install apyori\n",
        "!pip install mlxtend"
      ],
      "execution_count": null,
      "outputs": [
        {
          "output_type": "stream",
          "name": "stdout",
          "text": [
            "Collecting apyori\n",
            "  Downloading apyori-1.1.2.tar.gz (8.6 kB)\n",
            "  Preparing metadata (setup.py) ... \u001b[?25l\u001b[?25hdone\n",
            "Building wheels for collected packages: apyori\n",
            "  Building wheel for apyori (setup.py) ... \u001b[?25l\u001b[?25hdone\n",
            "  Created wheel for apyori: filename=apyori-1.1.2-py3-none-any.whl size=5954 sha256=4811076cf8e130eee01c9dadc5d5add07ad854d6e678c5d07272897482d89794\n",
            "  Stored in directory: /root/.cache/pip/wheels/c4/1a/79/20f55c470a50bb3702a8cb7c94d8ada15573538c7f4baebe2d\n",
            "Successfully built apyori\n",
            "Installing collected packages: apyori\n",
            "Successfully installed apyori-1.1.2\n",
            "Requirement already satisfied: mlxtend in /usr/local/lib/python3.10/dist-packages (0.23.1)\n",
            "Requirement already satisfied: scipy>=1.2.1 in /usr/local/lib/python3.10/dist-packages (from mlxtend) (1.13.1)\n",
            "Requirement already satisfied: numpy>=1.16.2 in /usr/local/lib/python3.10/dist-packages (from mlxtend) (1.26.4)\n",
            "Requirement already satisfied: pandas>=0.24.2 in /usr/local/lib/python3.10/dist-packages (from mlxtend) (2.2.2)\n",
            "Requirement already satisfied: scikit-learn>=1.0.2 in /usr/local/lib/python3.10/dist-packages (from mlxtend) (1.5.2)\n",
            "Requirement already satisfied: matplotlib>=3.0.0 in /usr/local/lib/python3.10/dist-packages (from mlxtend) (3.8.0)\n",
            "Requirement already satisfied: joblib>=0.13.2 in /usr/local/lib/python3.10/dist-packages (from mlxtend) (1.4.2)\n",
            "Requirement already satisfied: contourpy>=1.0.1 in /usr/local/lib/python3.10/dist-packages (from matplotlib>=3.0.0->mlxtend) (1.3.0)\n",
            "Requirement already satisfied: cycler>=0.10 in /usr/local/lib/python3.10/dist-packages (from matplotlib>=3.0.0->mlxtend) (0.12.1)\n",
            "Requirement already satisfied: fonttools>=4.22.0 in /usr/local/lib/python3.10/dist-packages (from matplotlib>=3.0.0->mlxtend) (4.54.1)\n",
            "Requirement already satisfied: kiwisolver>=1.0.1 in /usr/local/lib/python3.10/dist-packages (from matplotlib>=3.0.0->mlxtend) (1.4.7)\n",
            "Requirement already satisfied: packaging>=20.0 in /usr/local/lib/python3.10/dist-packages (from matplotlib>=3.0.0->mlxtend) (24.1)\n",
            "Requirement already satisfied: pillow>=6.2.0 in /usr/local/lib/python3.10/dist-packages (from matplotlib>=3.0.0->mlxtend) (10.4.0)\n",
            "Requirement already satisfied: pyparsing>=2.3.1 in /usr/local/lib/python3.10/dist-packages (from matplotlib>=3.0.0->mlxtend) (3.2.0)\n",
            "Requirement already satisfied: python-dateutil>=2.7 in /usr/local/lib/python3.10/dist-packages (from matplotlib>=3.0.0->mlxtend) (2.8.2)\n",
            "Requirement already satisfied: pytz>=2020.1 in /usr/local/lib/python3.10/dist-packages (from pandas>=0.24.2->mlxtend) (2024.2)\n",
            "Requirement already satisfied: tzdata>=2022.7 in /usr/local/lib/python3.10/dist-packages (from pandas>=0.24.2->mlxtend) (2024.2)\n",
            "Requirement already satisfied: threadpoolctl>=3.1.0 in /usr/local/lib/python3.10/dist-packages (from scikit-learn>=1.0.2->mlxtend) (3.5.0)\n",
            "Requirement already satisfied: six>=1.5 in /usr/local/lib/python3.10/dist-packages (from python-dateutil>=2.7->matplotlib>=3.0.0->mlxtend) (1.16.0)\n"
          ]
        }
      ]
    },
    {
      "cell_type": "code",
      "metadata": {
        "id": "m3d_ivF4Bcn5"
      },
      "source": [
        "import pandas as pd\n",
        "from apyori import apriori\n",
        "import numpy as np\n",
        "from itertools import combinations"
      ],
      "execution_count": null,
      "outputs": []
    },
    {
      "cell_type": "code",
      "metadata": {
        "colab": {
          "base_uri": "https://localhost:8080/"
        },
        "id": "fGx34zCzBkw1",
        "outputId": "5da9c632-3bd7-4e51-f90c-c21c86ff62a6"
      },
      "source": [
        "#encoding = \"cp1252\", encoding='utf-8', encoding='latin1'etc\n",
        "base = pd.read_csv('/content/sample_data/paomanteiga.csv', sep=';',encoding='cp1252', header=None)\n",
        "novo_indice = len(base)\n",
        "base.loc[novo_indice] = ['Não','Não','Não','Não','Não','Não','Não']\n",
        "\n",
        "#itens da base (header)\n",
        "itens = base.iloc[0, :]\n",
        "itens = itens.tolist()\n",
        "itens"
      ],
      "execution_count": null,
      "outputs": [
        {
          "output_type": "execute_result",
          "data": {
            "text/plain": [
              "['Leite', 'Café', 'Cerveja', 'Pão', 'Manteiga', 'Arroz', 'Feijão']"
            ]
          },
          "metadata": {},
          "execution_count": 3
        }
      ]
    },
    {
      "cell_type": "code",
      "source": [
        "#todos item sets gerados (mesmo aqueles que nao possuem suporte minimo)\n",
        "itens_sets = list(combinations(itens, 1))\n",
        "itens_sets += list(combinations(itens, 2))\n",
        "itens_sets += list(combinations(itens, 3))\n",
        "itens_sets"
      ],
      "metadata": {
        "colab": {
          "base_uri": "https://localhost:8080/"
        },
        "id": "rf8VsBFrwiZn",
        "outputId": "400a9e09-28a1-492d-807f-856c0fc6423b",
        "collapsed": true
      },
      "execution_count": null,
      "outputs": [
        {
          "output_type": "execute_result",
          "data": {
            "text/plain": [
              "[('Leite',),\n",
              " ('Café',),\n",
              " ('Cerveja',),\n",
              " ('Pão',),\n",
              " ('Manteiga',),\n",
              " ('Arroz',),\n",
              " ('Feijão',),\n",
              " ('Leite', 'Café'),\n",
              " ('Leite', 'Cerveja'),\n",
              " ('Leite', 'Pão'),\n",
              " ('Leite', 'Manteiga'),\n",
              " ('Leite', 'Arroz'),\n",
              " ('Leite', 'Feijão'),\n",
              " ('Café', 'Cerveja'),\n",
              " ('Café', 'Pão'),\n",
              " ('Café', 'Manteiga'),\n",
              " ('Café', 'Arroz'),\n",
              " ('Café', 'Feijão'),\n",
              " ('Cerveja', 'Pão'),\n",
              " ('Cerveja', 'Manteiga'),\n",
              " ('Cerveja', 'Arroz'),\n",
              " ('Cerveja', 'Feijão'),\n",
              " ('Pão', 'Manteiga'),\n",
              " ('Pão', 'Arroz'),\n",
              " ('Pão', 'Feijão'),\n",
              " ('Manteiga', 'Arroz'),\n",
              " ('Manteiga', 'Feijão'),\n",
              " ('Arroz', 'Feijão'),\n",
              " ('Leite', 'Café', 'Cerveja'),\n",
              " ('Leite', 'Café', 'Pão'),\n",
              " ('Leite', 'Café', 'Manteiga'),\n",
              " ('Leite', 'Café', 'Arroz'),\n",
              " ('Leite', 'Café', 'Feijão'),\n",
              " ('Leite', 'Cerveja', 'Pão'),\n",
              " ('Leite', 'Cerveja', 'Manteiga'),\n",
              " ('Leite', 'Cerveja', 'Arroz'),\n",
              " ('Leite', 'Cerveja', 'Feijão'),\n",
              " ('Leite', 'Pão', 'Manteiga'),\n",
              " ('Leite', 'Pão', 'Arroz'),\n",
              " ('Leite', 'Pão', 'Feijão'),\n",
              " ('Leite', 'Manteiga', 'Arroz'),\n",
              " ('Leite', 'Manteiga', 'Feijão'),\n",
              " ('Leite', 'Arroz', 'Feijão'),\n",
              " ('Café', 'Cerveja', 'Pão'),\n",
              " ('Café', 'Cerveja', 'Manteiga'),\n",
              " ('Café', 'Cerveja', 'Arroz'),\n",
              " ('Café', 'Cerveja', 'Feijão'),\n",
              " ('Café', 'Pão', 'Manteiga'),\n",
              " ('Café', 'Pão', 'Arroz'),\n",
              " ('Café', 'Pão', 'Feijão'),\n",
              " ('Café', 'Manteiga', 'Arroz'),\n",
              " ('Café', 'Manteiga', 'Feijão'),\n",
              " ('Café', 'Arroz', 'Feijão'),\n",
              " ('Cerveja', 'Pão', 'Manteiga'),\n",
              " ('Cerveja', 'Pão', 'Arroz'),\n",
              " ('Cerveja', 'Pão', 'Feijão'),\n",
              " ('Cerveja', 'Manteiga', 'Arroz'),\n",
              " ('Cerveja', 'Manteiga', 'Feijão'),\n",
              " ('Cerveja', 'Arroz', 'Feijão'),\n",
              " ('Pão', 'Manteiga', 'Arroz'),\n",
              " ('Pão', 'Manteiga', 'Feijão'),\n",
              " ('Pão', 'Arroz', 'Feijão'),\n",
              " ('Manteiga', 'Arroz', 'Feijão')]"
            ]
          },
          "metadata": {},
          "execution_count": 4
        }
      ]
    },
    {
      "cell_type": "code",
      "metadata": {
        "colab": {
          "base_uri": "https://localhost:8080/"
        },
        "id": "oIBsczbGCxWf",
        "outputId": "4ce4bbd6-0dee-4c80-e458-2b0ec1bc2264"
      },
      "source": [
        "base.shape"
      ],
      "execution_count": null,
      "outputs": [
        {
          "output_type": "execute_result",
          "data": {
            "text/plain": [
              "(12, 7)"
            ]
          },
          "metadata": {},
          "execution_count": 5
        }
      ]
    },
    {
      "cell_type": "markdown",
      "source": [
        "**Como estaremos treinando um modelo a priori, que recebe entradas em formato de lista, precisamos transformar o dataframe em uma lista de transações.**"
      ],
      "metadata": {
        "id": "cQyNolxV37tx"
      }
    },
    {
      "cell_type": "code",
      "metadata": {
        "id": "ZF8i0EdWCMjY"
      },
      "source": [
        "transacoes = []\n",
        "for i in range(len(base)):\n",
        "  transacoes.append([str(base.values[i, j]) for j in range(base.shape[1])])"
      ],
      "execution_count": null,
      "outputs": []
    },
    {
      "cell_type": "code",
      "metadata": {
        "colab": {
          "base_uri": "https://localhost:8080/"
        },
        "id": "XH2CNc6VC3e3",
        "outputId": "a3c28403-2793-4e00-ef16-34bbc5fa48d1"
      },
      "source": [
        "baseConvertida = []\n",
        "\n",
        "#mudando a base de SIM/NAO para ITEM/nan (para poder aparecer certinho nas regras)\n",
        "for i in range(10):\n",
        "    baseConvertida.append([])\n",
        "    for j, element in enumerate(transacoes[i+1]):\n",
        "      baseConvertida[i].append(str(transacoes[0][j]) if element == 'Não' else str(np.nan))\n",
        "\n",
        "baseConvertida"
      ],
      "execution_count": null,
      "outputs": [
        {
          "output_type": "execute_result",
          "data": {
            "text/plain": [
              "[['Leite', 'nan', 'Cerveja', 'nan', 'nan', 'Arroz', 'Feijão'],\n",
              " ['nan', 'Café', 'nan', 'nan', 'nan', 'Arroz', 'Feijão'],\n",
              " ['Leite', 'nan', 'Cerveja', 'nan', 'nan', 'Arroz', 'Feijão'],\n",
              " ['nan', 'nan', 'Cerveja', 'nan', 'nan', 'Arroz', 'Feijão'],\n",
              " ['Leite', 'Café', 'nan', 'Pão', 'Manteiga', 'Arroz', 'Feijão'],\n",
              " ['Leite', 'Café', 'Cerveja', 'Pão', 'nan', 'Arroz', 'Feijão'],\n",
              " ['Leite', 'Café', 'Cerveja', 'nan', 'Manteiga', 'Arroz', 'Feijão'],\n",
              " ['Leite', 'Café', 'Cerveja', 'Pão', 'Manteiga', 'Arroz', 'nan'],\n",
              " ['Leite', 'Café', 'Cerveja', 'Pão', 'Manteiga', 'nan', 'nan'],\n",
              " ['Leite', 'Café', 'Cerveja', 'Pão', 'Manteiga', 'nan', 'Feijão']]"
            ]
          },
          "metadata": {},
          "execution_count": 7
        }
      ]
    },
    {
      "cell_type": "code",
      "metadata": {
        "colab": {
          "base_uri": "https://localhost:8080/"
        },
        "id": "jF4Ec_ryDNfw",
        "outputId": "4bea7def-17e1-4957-b144-12e7ba8165ec"
      },
      "source": [
        "type(baseConvertida)"
      ],
      "execution_count": null,
      "outputs": [
        {
          "output_type": "execute_result",
          "data": {
            "text/plain": [
              "list"
            ]
          },
          "metadata": {},
          "execution_count": 8
        }
      ]
    },
    {
      "cell_type": "markdown",
      "source": [
        "**Vamos chamar executar o algoritmo apriori e armazenar as regras obtidas**"
      ],
      "metadata": {
        "id": "ggzA0uJg_3Ns"
      }
    },
    {
      "cell_type": "code",
      "source": [
        "regras = apriori(baseConvertida, min_support = 0.3, min_confidence = 0.8)\n",
        "\n",
        "#visualizar os itemsets com o suporte\n",
        "for r in list(regras):\n",
        "    print(f\"Itemset: {list(r[0])}, Suporte: {r[1]:.2f}\")"
      ],
      "metadata": {
        "colab": {
          "base_uri": "https://localhost:8080/"
        },
        "id": "DuX5YuabzqfQ",
        "outputId": "19e9b97e-1788-4ecd-f83d-e68b0fd22298"
      },
      "execution_count": null,
      "outputs": [
        {
          "output_type": "stream",
          "name": "stdout",
          "text": [
            "Itemset: ['Arroz'], Suporte: 0.80\n",
            "Itemset: ['Cerveja'], Suporte: 0.80\n",
            "Itemset: ['Feijão'], Suporte: 0.80\n",
            "Itemset: ['Leite'], Suporte: 0.80\n",
            "Itemset: ['nan'], Suporte: 1.00\n",
            "Itemset: ['Feijão', 'Arroz'], Suporte: 0.70\n",
            "Itemset: ['nan', 'Arroz'], Suporte: 0.80\n",
            "Itemset: ['Café', 'Leite'], Suporte: 0.60\n",
            "Itemset: ['Manteiga', 'Café'], Suporte: 0.50\n",
            "Itemset: ['Pão', 'Café'], Suporte: 0.50\n",
            "Itemset: ['nan', 'Café'], Suporte: 0.70\n",
            "Itemset: ['Cerveja', 'Leite'], Suporte: 0.70\n",
            "Itemset: ['Manteiga', 'Cerveja'], Suporte: 0.40\n",
            "Itemset: ['Pão', 'Cerveja'], Suporte: 0.40\n",
            "Itemset: ['nan', 'Cerveja'], Suporte: 0.80\n",
            "Itemset: ['Feijão', 'nan'], Suporte: 0.80\n",
            "Itemset: ['Manteiga', 'Leite'], Suporte: 0.50\n",
            "Itemset: ['Pão', 'Leite'], Suporte: 0.50\n",
            "Itemset: ['nan', 'Leite'], Suporte: 0.80\n",
            "Itemset: ['Manteiga', 'Pão'], Suporte: 0.40\n",
            "Itemset: ['Manteiga', 'nan'], Suporte: 0.50\n",
            "Itemset: ['nan', 'Pão'], Suporte: 0.50\n",
            "Itemset: ['Feijão', 'Café', 'Arroz'], Suporte: 0.40\n",
            "Itemset: ['Leite', 'Café', 'Arroz'], Suporte: 0.40\n",
            "Itemset: ['Manteiga', 'Café', 'Arroz'], Suporte: 0.30\n",
            "Itemset: ['Pão', 'Café', 'Arroz'], Suporte: 0.30\n",
            "Itemset: ['nan', 'Café', 'Arroz'], Suporte: 0.50\n",
            "Itemset: ['Feijão', 'Cerveja', 'Arroz'], Suporte: 0.50\n",
            "Itemset: ['Leite', 'Cerveja', 'Arroz'], Suporte: 0.50\n",
            "Itemset: ['nan', 'Cerveja', 'Arroz'], Suporte: 0.60\n",
            "Itemset: ['Leite', 'Feijão', 'Arroz'], Suporte: 0.50\n",
            "Itemset: ['Feijão', 'nan', 'Arroz'], Suporte: 0.70\n",
            "Itemset: ['Leite', 'Manteiga', 'Arroz'], Suporte: 0.30\n",
            "Itemset: ['Leite', 'Pão', 'Arroz'], Suporte: 0.30\n",
            "Itemset: ['Leite', 'nan', 'Arroz'], Suporte: 0.60\n",
            "Itemset: ['Manteiga', 'nan', 'Arroz'], Suporte: 0.30\n",
            "Itemset: ['nan', 'Pão', 'Arroz'], Suporte: 0.30\n",
            "Itemset: ['Cerveja', 'Café', 'Leite'], Suporte: 0.50\n",
            "Itemset: ['Cerveja', 'Manteiga', 'Café'], Suporte: 0.40\n",
            "Itemset: ['Cerveja', 'Pão', 'Café'], Suporte: 0.40\n",
            "Itemset: ['Cerveja', 'nan', 'Café'], Suporte: 0.50\n",
            "Itemset: ['Feijão', 'Café', 'Leite'], Suporte: 0.40\n",
            "Itemset: ['Manteiga', 'Feijão', 'Café'], Suporte: 0.30\n",
            "Itemset: ['Feijão', 'Pão', 'Café'], Suporte: 0.30\n",
            "Itemset: ['nan', 'Feijão', 'Café'], Suporte: 0.50\n",
            "Itemset: ['Manteiga', 'Café', 'Leite'], Suporte: 0.50\n",
            "Itemset: ['Pão', 'Café', 'Leite'], Suporte: 0.50\n",
            "Itemset: ['nan', 'Café', 'Leite'], Suporte: 0.60\n",
            "Itemset: ['Manteiga', 'Pão', 'Café'], Suporte: 0.40\n",
            "Itemset: ['nan', 'Manteiga', 'Café'], Suporte: 0.50\n",
            "Itemset: ['nan', 'Pão', 'Café'], Suporte: 0.50\n",
            "Itemset: ['Feijão', 'Cerveja', 'Leite'], Suporte: 0.50\n",
            "Itemset: ['nan', 'Feijão', 'Cerveja'], Suporte: 0.60\n",
            "Itemset: ['Manteiga', 'Cerveja', 'Leite'], Suporte: 0.40\n",
            "Itemset: ['Pão', 'Cerveja', 'Leite'], Suporte: 0.40\n",
            "Itemset: ['nan', 'Cerveja', 'Leite'], Suporte: 0.70\n",
            "Itemset: ['nan', 'Manteiga', 'Cerveja'], Suporte: 0.40\n",
            "Itemset: ['nan', 'Pão', 'Cerveja'], Suporte: 0.40\n",
            "Itemset: ['Feijão', 'Manteiga', 'Leite'], Suporte: 0.30\n",
            "Itemset: ['Feijão', 'Pão', 'Leite'], Suporte: 0.30\n",
            "Itemset: ['Feijão', 'nan', 'Leite'], Suporte: 0.60\n",
            "Itemset: ['nan', 'Feijão', 'Manteiga'], Suporte: 0.30\n",
            "Itemset: ['nan', 'Feijão', 'Pão'], Suporte: 0.30\n",
            "Itemset: ['Manteiga', 'Pão', 'Leite'], Suporte: 0.40\n",
            "Itemset: ['Manteiga', 'nan', 'Leite'], Suporte: 0.50\n",
            "Itemset: ['nan', 'Pão', 'Leite'], Suporte: 0.50\n",
            "Itemset: ['nan', 'Manteiga', 'Pão'], Suporte: 0.40\n",
            "Itemset: ['Cerveja', 'Leite', 'Café', 'Arroz'], Suporte: 0.30\n",
            "Itemset: ['Cerveja', 'nan', 'Café', 'Arroz'], Suporte: 0.30\n",
            "Itemset: ['nan', 'Feijão', 'Café', 'Arroz'], Suporte: 0.40\n",
            "Itemset: ['Leite', 'Manteiga', 'Café', 'Arroz'], Suporte: 0.30\n",
            "Itemset: ['Leite', 'Pão', 'Café', 'Arroz'], Suporte: 0.30\n",
            "Itemset: ['Leite', 'nan', 'Café', 'Arroz'], Suporte: 0.40\n",
            "Itemset: ['nan', 'Manteiga', 'Café', 'Arroz'], Suporte: 0.30\n",
            "Itemset: ['nan', 'Pão', 'Café', 'Arroz'], Suporte: 0.30\n",
            "Itemset: ['Leite', 'Feijão', 'Cerveja', 'Arroz'], Suporte: 0.40\n",
            "Itemset: ['nan', 'Feijão', 'Cerveja', 'Arroz'], Suporte: 0.50\n",
            "Itemset: ['Leite', 'nan', 'Cerveja', 'Arroz'], Suporte: 0.50\n",
            "Itemset: ['Leite', 'Feijão', 'nan', 'Arroz'], Suporte: 0.50\n",
            "Itemset: ['Leite', 'Manteiga', 'nan', 'Arroz'], Suporte: 0.30\n",
            "Itemset: ['Leite', 'nan', 'Pão', 'Arroz'], Suporte: 0.30\n",
            "Itemset: ['Cerveja', 'Feijão', 'Café', 'Leite'], Suporte: 0.30\n",
            "Itemset: ['Cerveja', 'nan', 'Feijão', 'Café'], Suporte: 0.30\n",
            "Itemset: ['Cerveja', 'Manteiga', 'Café', 'Leite'], Suporte: 0.40\n",
            "Itemset: ['Cerveja', 'Pão', 'Café', 'Leite'], Suporte: 0.40\n",
            "Itemset: ['Cerveja', 'nan', 'Café', 'Leite'], Suporte: 0.50\n",
            "Itemset: ['Cerveja', 'Manteiga', 'Pão', 'Café'], Suporte: 0.30\n",
            "Itemset: ['Cerveja', 'nan', 'Manteiga', 'Café'], Suporte: 0.40\n",
            "Itemset: ['Cerveja', 'nan', 'Pão', 'Café'], Suporte: 0.40\n",
            "Itemset: ['Manteiga', 'Feijão', 'Café', 'Leite'], Suporte: 0.30\n",
            "Itemset: ['Feijão', 'Pão', 'Café', 'Leite'], Suporte: 0.30\n",
            "Itemset: ['nan', 'Feijão', 'Café', 'Leite'], Suporte: 0.40\n",
            "Itemset: ['Manteiga', 'Feijão', 'Café', 'nan'], Suporte: 0.30\n",
            "Itemset: ['nan', 'Feijão', 'Pão', 'Café'], Suporte: 0.30\n",
            "Itemset: ['Manteiga', 'Pão', 'Café', 'Leite'], Suporte: 0.40\n",
            "Itemset: ['nan', 'Manteiga', 'Café', 'Leite'], Suporte: 0.50\n",
            "Itemset: ['nan', 'Pão', 'Café', 'Leite'], Suporte: 0.50\n",
            "Itemset: ['nan', 'Manteiga', 'Pão', 'Café'], Suporte: 0.40\n",
            "Itemset: ['nan', 'Feijão', 'Cerveja', 'Leite'], Suporte: 0.50\n",
            "Itemset: ['Manteiga', 'Pão', 'Cerveja', 'Leite'], Suporte: 0.30\n",
            "Itemset: ['nan', 'Manteiga', 'Cerveja', 'Leite'], Suporte: 0.40\n",
            "Itemset: ['nan', 'Pão', 'Cerveja', 'Leite'], Suporte: 0.40\n",
            "Itemset: ['nan', 'Manteiga', 'Pão', 'Cerveja'], Suporte: 0.30\n",
            "Itemset: ['nan', 'Feijão', 'Manteiga', 'Leite'], Suporte: 0.30\n",
            "Itemset: ['nan', 'Feijão', 'Pão', 'Leite'], Suporte: 0.30\n",
            "Itemset: ['nan', 'Manteiga', 'Pão', 'Leite'], Suporte: 0.40\n",
            "Itemset: ['Cerveja', 'nan', 'Café', 'Arroz', 'Leite'], Suporte: 0.30\n",
            "Itemset: ['nan', 'Feijão', 'Café', 'Arroz', 'Leite'], Suporte: 0.30\n",
            "Itemset: ['Manteiga', 'nan', 'Café', 'Arroz', 'Leite'], Suporte: 0.30\n",
            "Itemset: ['nan', 'Café', 'Arroz', 'Pão', 'Leite'], Suporte: 0.30\n",
            "Itemset: ['Cerveja', 'nan', 'Feijão', 'Arroz', 'Leite'], Suporte: 0.40\n",
            "Itemset: ['Cerveja', 'nan', 'Feijão', 'Café', 'Leite'], Suporte: 0.30\n",
            "Itemset: ['Cerveja', 'Manteiga', 'Café', 'Pão', 'Leite'], Suporte: 0.30\n",
            "Itemset: ['Cerveja', 'Manteiga', 'nan', 'Café', 'Leite'], Suporte: 0.40\n",
            "Itemset: ['Cerveja', 'nan', 'Café', 'Pão', 'Leite'], Suporte: 0.40\n",
            "Itemset: ['Cerveja', 'Manteiga', 'nan', 'Café', 'Pão'], Suporte: 0.30\n",
            "Itemset: ['Manteiga', 'nan', 'Feijão', 'Café', 'Leite'], Suporte: 0.30\n",
            "Itemset: ['nan', 'Feijão', 'Café', 'Pão', 'Leite'], Suporte: 0.30\n",
            "Itemset: ['Manteiga', 'nan', 'Café', 'Pão', 'Leite'], Suporte: 0.40\n",
            "Itemset: ['Cerveja', 'Manteiga', 'nan', 'Pão', 'Leite'], Suporte: 0.30\n",
            "Itemset: ['Cerveja', 'Manteiga', 'nan', 'Café', 'Pão', 'Leite'], Suporte: 0.30\n"
          ]
        }
      ]
    },
    {
      "cell_type": "markdown",
      "source": [
        "**Para facilitar a visualização, veja como transformar isso em um dataframe**\n",
        "\n",
        "Extraído de:\n",
        "\n",
        "https://www.section.io/engineering-education/apriori-algorithm-in-python/\n",
        "\n",
        "https://splunktool.com/understanding-apyoris-output"
      ],
      "metadata": {
        "id": "soknidg94a2y"
      }
    },
    {
      "cell_type": "code",
      "source": [
        "Antecedente = []\n",
        "Consequente = []\n",
        "suporte = []\n",
        "confianca = []\n",
        "lift = []\n",
        "RegrasFinais = []\n",
        "\n",
        "for resultado in regras:\n",
        "  s = resultado[1]\n",
        "  result_rules = resultado[2]\n",
        "  for result_rule in result_rules:\n",
        "    a = list(result_rule[0])\n",
        "    b = list(result_rule[1])\n",
        "    c = result_rule[2]\n",
        "    l = result_rule[3]\n",
        "    if 'nan' in a or 'nan' in b: continue\n",
        "    if len(a) == 0 or len(b) == 0: continue\n",
        "    Antecedente.append(a)\n",
        "    Consequente.append(b)\n",
        "    suporte.append(s)\n",
        "    confianca.append(c)\n",
        "    lift.append(l)\n",
        "    RegrasFinais = pd.DataFrame({'Antecedente': Antecedente, 'Consequente': Consequente, 'suporte': suporte, 'confianca': confianca, 'lift': lift})"
      ],
      "metadata": {
        "id": "UWDno2uo4aL0"
      },
      "execution_count": null,
      "outputs": []
    },
    {
      "cell_type": "code",
      "source": [
        "print(regras)"
      ],
      "metadata": {
        "id": "QW7wcZbe431-",
        "colab": {
          "base_uri": "https://localhost:8080/"
        },
        "outputId": "f7cd0890-e658-4dec-c059-b0fdec6cca08"
      },
      "execution_count": null,
      "outputs": [
        {
          "output_type": "stream",
          "name": "stdout",
          "text": [
            "<generator object apriori at 0x7abfd5c2b530>\n"
          ]
        }
      ]
    },
    {
      "cell_type": "markdown",
      "source": [
        "**Podemos ordenar estas regras por uma métrica desejada**"
      ],
      "metadata": {
        "id": "DJUXykHjhbJ0"
      }
    },
    {
      "cell_type": "code",
      "source": [
        "RegrasFinais.sort_values(by='lift', ascending =False)"
      ],
      "metadata": {
        "id": "A7X_YwVHhaxf",
        "colab": {
          "base_uri": "https://localhost:8080/",
          "height": 53
        },
        "outputId": "d577463b-662d-40c4-b143-f58c9065a02f"
      },
      "execution_count": null,
      "outputs": [
        {
          "output_type": "execute_result",
          "data": {
            "text/plain": [
              "Empty DataFrame\n",
              "Columns: [Antecedente, Consequente, suporte, confianca, lift]\n",
              "Index: []"
            ],
            "text/html": [
              "\n",
              "  <div id=\"df-fe75063f-4fd4-4d0b-befa-6d233e705cd3\" class=\"colab-df-container\">\n",
              "    <div>\n",
              "<style scoped>\n",
              "    .dataframe tbody tr th:only-of-type {\n",
              "        vertical-align: middle;\n",
              "    }\n",
              "\n",
              "    .dataframe tbody tr th {\n",
              "        vertical-align: top;\n",
              "    }\n",
              "\n",
              "    .dataframe thead th {\n",
              "        text-align: right;\n",
              "    }\n",
              "</style>\n",
              "<table border=\"1\" class=\"dataframe\">\n",
              "  <thead>\n",
              "    <tr style=\"text-align: right;\">\n",
              "      <th></th>\n",
              "      <th>Antecedente</th>\n",
              "      <th>Consequente</th>\n",
              "      <th>suporte</th>\n",
              "      <th>confianca</th>\n",
              "      <th>lift</th>\n",
              "    </tr>\n",
              "  </thead>\n",
              "  <tbody>\n",
              "  </tbody>\n",
              "</table>\n",
              "</div>\n",
              "    <div class=\"colab-df-buttons\">\n",
              "\n",
              "  <div class=\"colab-df-container\">\n",
              "    <button class=\"colab-df-convert\" onclick=\"convertToInteractive('df-fe75063f-4fd4-4d0b-befa-6d233e705cd3')\"\n",
              "            title=\"Convert this dataframe to an interactive table.\"\n",
              "            style=\"display:none;\">\n",
              "\n",
              "  <svg xmlns=\"http://www.w3.org/2000/svg\" height=\"24px\" viewBox=\"0 -960 960 960\">\n",
              "    <path d=\"M120-120v-720h720v720H120Zm60-500h600v-160H180v160Zm220 220h160v-160H400v160Zm0 220h160v-160H400v160ZM180-400h160v-160H180v160Zm440 0h160v-160H620v160ZM180-180h160v-160H180v160Zm440 0h160v-160H620v160Z\"/>\n",
              "  </svg>\n",
              "    </button>\n",
              "\n",
              "  <style>\n",
              "    .colab-df-container {\n",
              "      display:flex;\n",
              "      gap: 12px;\n",
              "    }\n",
              "\n",
              "    .colab-df-convert {\n",
              "      background-color: #E8F0FE;\n",
              "      border: none;\n",
              "      border-radius: 50%;\n",
              "      cursor: pointer;\n",
              "      display: none;\n",
              "      fill: #1967D2;\n",
              "      height: 32px;\n",
              "      padding: 0 0 0 0;\n",
              "      width: 32px;\n",
              "    }\n",
              "\n",
              "    .colab-df-convert:hover {\n",
              "      background-color: #E2EBFA;\n",
              "      box-shadow: 0px 1px 2px rgba(60, 64, 67, 0.3), 0px 1px 3px 1px rgba(60, 64, 67, 0.15);\n",
              "      fill: #174EA6;\n",
              "    }\n",
              "\n",
              "    .colab-df-buttons div {\n",
              "      margin-bottom: 4px;\n",
              "    }\n",
              "\n",
              "    [theme=dark] .colab-df-convert {\n",
              "      background-color: #3B4455;\n",
              "      fill: #D2E3FC;\n",
              "    }\n",
              "\n",
              "    [theme=dark] .colab-df-convert:hover {\n",
              "      background-color: #434B5C;\n",
              "      box-shadow: 0px 1px 3px 1px rgba(0, 0, 0, 0.15);\n",
              "      filter: drop-shadow(0px 1px 2px rgba(0, 0, 0, 0.3));\n",
              "      fill: #FFFFFF;\n",
              "    }\n",
              "  </style>\n",
              "\n",
              "    <script>\n",
              "      const buttonEl =\n",
              "        document.querySelector('#df-fe75063f-4fd4-4d0b-befa-6d233e705cd3 button.colab-df-convert');\n",
              "      buttonEl.style.display =\n",
              "        google.colab.kernel.accessAllowed ? 'block' : 'none';\n",
              "\n",
              "      async function convertToInteractive(key) {\n",
              "        const element = document.querySelector('#df-fe75063f-4fd4-4d0b-befa-6d233e705cd3');\n",
              "        const dataTable =\n",
              "          await google.colab.kernel.invokeFunction('convertToInteractive',\n",
              "                                                    [key], {});\n",
              "        if (!dataTable) return;\n",
              "\n",
              "        const docLinkHtml = 'Like what you see? Visit the ' +\n",
              "          '<a target=\"_blank\" href=https://colab.research.google.com/notebooks/data_table.ipynb>data table notebook</a>'\n",
              "          + ' to learn more about interactive tables.';\n",
              "        element.innerHTML = '';\n",
              "        dataTable['output_type'] = 'display_data';\n",
              "        await google.colab.output.renderOutput(dataTable, element);\n",
              "        const docLink = document.createElement('div');\n",
              "        docLink.innerHTML = docLinkHtml;\n",
              "        element.appendChild(docLink);\n",
              "      }\n",
              "    </script>\n",
              "  </div>\n",
              "\n",
              "\n",
              "    </div>\n",
              "  </div>\n"
            ],
            "application/vnd.google.colaboratory.intrinsic+json": {
              "type": "dataframe",
              "summary": "{\n  \"name\": \"RegrasFinais\",\n  \"rows\": 0,\n  \"fields\": [\n    {\n      \"column\": \"Antecedente\",\n      \"properties\": {\n        \"dtype\": \"number\",\n        \"std\": null,\n        \"min\": null,\n        \"max\": null,\n        \"num_unique_values\": 0,\n        \"samples\": [],\n        \"semantic_type\": \"\",\n        \"description\": \"\"\n      }\n    },\n    {\n      \"column\": \"Consequente\",\n      \"properties\": {\n        \"dtype\": \"number\",\n        \"std\": null,\n        \"min\": null,\n        \"max\": null,\n        \"num_unique_values\": 0,\n        \"samples\": [],\n        \"semantic_type\": \"\",\n        \"description\": \"\"\n      }\n    },\n    {\n      \"column\": \"suporte\",\n      \"properties\": {\n        \"dtype\": \"number\",\n        \"std\": null,\n        \"min\": null,\n        \"max\": null,\n        \"num_unique_values\": 0,\n        \"samples\": [],\n        \"semantic_type\": \"\",\n        \"description\": \"\"\n      }\n    },\n    {\n      \"column\": \"confianca\",\n      \"properties\": {\n        \"dtype\": \"number\",\n        \"std\": null,\n        \"min\": null,\n        \"max\": null,\n        \"num_unique_values\": 0,\n        \"samples\": [],\n        \"semantic_type\": \"\",\n        \"description\": \"\"\n      }\n    },\n    {\n      \"column\": \"lift\",\n      \"properties\": {\n        \"dtype\": \"number\",\n        \"std\": null,\n        \"min\": null,\n        \"max\": null,\n        \"num_unique_values\": 0,\n        \"samples\": [],\n        \"semantic_type\": \"\",\n        \"description\": \"\"\n      }\n    }\n  ]\n}"
            }
          },
          "metadata": {},
          "execution_count": 12
        }
      ]
    }
  ]
}